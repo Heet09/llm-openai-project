{
 "cells": [
  {
   "cell_type": "code",
   "execution_count": 18,
   "metadata": {},
   "outputs": [
    {
     "name": "stdout",
     "output_type": "stream",
     "text": [
      "Requirement already satisfied: update in c:\\users\\heet shah\\appdata\\local\\programs\\python\\python311\\lib\\site-packages (0.0.1)\n",
      "Requirement already satisfied: pandas in c:\\users\\heet shah\\appdata\\local\\programs\\python\\python311\\lib\\site-packages (2.2.0)\n",
      "Requirement already satisfied: style==1.1.0 in c:\\users\\heet shah\\appdata\\local\\programs\\python\\python311\\lib\\site-packages (from update) (1.1.0)\n",
      "Requirement already satisfied: numpy<2,>=1.23.2 in c:\\users\\heet shah\\appdata\\local\\programs\\python\\python311\\lib\\site-packages (from pandas) (1.26.2)\n",
      "Requirement already satisfied: python-dateutil>=2.8.2 in c:\\users\\heet shah\\appdata\\local\\programs\\python\\python311\\lib\\site-packages (from pandas) (2.8.2)\n",
      "Requirement already satisfied: pytz>=2020.1 in c:\\users\\heet shah\\appdata\\local\\programs\\python\\python311\\lib\\site-packages (from pandas) (2023.3.post1)\n",
      "Requirement already satisfied: tzdata>=2022.7 in c:\\users\\heet shah\\appdata\\local\\programs\\python\\python311\\lib\\site-packages (from pandas) (2023.4)\n",
      "Requirement already satisfied: six>=1.5 in c:\\users\\heet shah\\appdata\\local\\programs\\python\\python311\\lib\\site-packages (from python-dateutil>=2.8.2->pandas) (1.16.0)\n"
     ]
    }
   ],
   "source": [
    "!pip install update pandas"
   ]
  },
  {
   "cell_type": "code",
   "execution_count": 19,
   "metadata": {},
   "outputs": [
    {
     "name": "stdout",
     "output_type": "stream",
     "text": [
      "Requirement already satisfied: update in c:\\users\\heet shah\\appdata\\local\\programs\\python\\python311\\lib\\site-packages (0.0.1)\n",
      "Requirement already satisfied: numpy in c:\\users\\heet shah\\appdata\\local\\programs\\python\\python311\\lib\\site-packages (1.26.2)\n",
      "Requirement already satisfied: style==1.1.0 in c:\\users\\heet shah\\appdata\\local\\programs\\python\\python311\\lib\\site-packages (from update) (1.1.0)\n"
     ]
    }
   ],
   "source": [
    "!pip install update numpy"
   ]
  },
  {
   "cell_type": "code",
   "execution_count": 20,
   "metadata": {},
   "outputs": [],
   "source": [
    "import pandas as pd\n",
    "import numpy as np \n",
    "from random import choices"
   ]
  },
  {
   "cell_type": "code",
   "execution_count": 21,
   "metadata": {},
   "outputs": [],
   "source": [
    "np.random.seed(10)"
   ]
  },
  {
   "cell_type": "code",
   "execution_count": 22,
   "metadata": {},
   "outputs": [],
   "source": [
    "# Generating data\n",
    "num_records = 1000\n",
    "num_outlets = 10\n",
    "num_products = 5"
   ]
  },
  {
   "cell_type": "code",
   "execution_count": 23,
   "metadata": {},
   "outputs": [],
   "source": [
    "dates = pd.date_range(start='2024-01-31', end='2024-06-30')\n",
    "dates = choices(dates, k=num_records)"
   ]
  },
  {
   "cell_type": "code",
   "execution_count": 24,
   "metadata": {},
   "outputs": [],
   "source": [
    "outlets = ['Outlets_' + str(i+1) for i in range(num_outlets)]\n",
    "outlets = choices(outlets, k=num_records)"
   ]
  },
  {
   "cell_type": "code",
   "execution_count": 25,
   "metadata": {},
   "outputs": [],
   "source": [
    "products = ['Products_' + str(i+1) for i in range(num_products)]\n",
    "products = choices(products, k=num_records)"
   ]
  },
  {
   "cell_type": "code",
   "execution_count": 26,
   "metadata": {},
   "outputs": [],
   "source": [
    "units_sold = np.random.randint(1, 200, num_records)\n",
    "price_pre_unit = np.random.uniform(10, 500, num_records)"
   ]
  },
  {
   "cell_type": "code",
   "execution_count": 27,
   "metadata": {},
   "outputs": [],
   "source": [
    "total_sales = price_pre_unit * units_sold"
   ]
  },
  {
   "cell_type": "code",
   "execution_count": 28,
   "metadata": {},
   "outputs": [
    {
     "data": {
      "text/plain": [
       "1000"
      ]
     },
     "execution_count": 28,
     "metadata": {},
     "output_type": "execute_result"
    }
   ],
   "source": [
    "len(total_sales)"
   ]
  },
  {
   "cell_type": "code",
   "execution_count": 36,
   "metadata": {},
   "outputs": [],
   "source": [
    "df  = pd.DataFrame({\n",
    "    'Date' : dates,\n",
    "    'Outlet' : outlets,\n",
    "    'Product' : products,\n",
    "    'Unts_sold' : units_sold,\n",
    "    'Price_per_unit' : price_pre_unit,\n",
    "    'Total_Sales': total_sales\n",
    "})"
   ]
  },
  {
   "cell_type": "code",
   "execution_count": 37,
   "metadata": {},
   "outputs": [
    {
     "data": {
      "text/html": [
       "<div>\n",
       "<style scoped>\n",
       "    .dataframe tbody tr th:only-of-type {\n",
       "        vertical-align: middle;\n",
       "    }\n",
       "\n",
       "    .dataframe tbody tr th {\n",
       "        vertical-align: top;\n",
       "    }\n",
       "\n",
       "    .dataframe thead th {\n",
       "        text-align: right;\n",
       "    }\n",
       "</style>\n",
       "<table border=\"1\" class=\"dataframe\">\n",
       "  <thead>\n",
       "    <tr style=\"text-align: right;\">\n",
       "      <th></th>\n",
       "      <th>Date</th>\n",
       "      <th>Outlet</th>\n",
       "      <th>Product</th>\n",
       "      <th>Unts_sold</th>\n",
       "      <th>Price_per_unit</th>\n",
       "      <th>Total_Sales</th>\n",
       "    </tr>\n",
       "  </thead>\n",
       "  <tbody>\n",
       "    <tr>\n",
       "      <th>0</th>\n",
       "      <td>2024-06-28</td>\n",
       "      <td>Outlets_5</td>\n",
       "      <td>Products_3</td>\n",
       "      <td>10</td>\n",
       "      <td>27.204538</td>\n",
       "      <td>272.045385</td>\n",
       "    </tr>\n",
       "    <tr>\n",
       "      <th>1</th>\n",
       "      <td>2024-06-10</td>\n",
       "      <td>Outlets_6</td>\n",
       "      <td>Products_1</td>\n",
       "      <td>126</td>\n",
       "      <td>195.408008</td>\n",
       "      <td>24621.409060</td>\n",
       "    </tr>\n",
       "    <tr>\n",
       "      <th>2</th>\n",
       "      <td>2024-02-14</td>\n",
       "      <td>Outlets_5</td>\n",
       "      <td>Products_3</td>\n",
       "      <td>16</td>\n",
       "      <td>185.391255</td>\n",
       "      <td>2966.260076</td>\n",
       "    </tr>\n",
       "    <tr>\n",
       "      <th>3</th>\n",
       "      <td>2024-02-02</td>\n",
       "      <td>Outlets_7</td>\n",
       "      <td>Products_5</td>\n",
       "      <td>65</td>\n",
       "      <td>137.191145</td>\n",
       "      <td>8917.424411</td>\n",
       "    </tr>\n",
       "    <tr>\n",
       "      <th>4</th>\n",
       "      <td>2024-05-12</td>\n",
       "      <td>Outlets_5</td>\n",
       "      <td>Products_1</td>\n",
       "      <td>114</td>\n",
       "      <td>304.343828</td>\n",
       "      <td>34695.196345</td>\n",
       "    </tr>\n",
       "  </tbody>\n",
       "</table>\n",
       "</div>"
      ],
      "text/plain": [
       "        Date     Outlet     Product  Unts_sold  Price_per_unit   Total_Sales\n",
       "0 2024-06-28  Outlets_5  Products_3         10       27.204538    272.045385\n",
       "1 2024-06-10  Outlets_6  Products_1        126      195.408008  24621.409060\n",
       "2 2024-02-14  Outlets_5  Products_3         16      185.391255   2966.260076\n",
       "3 2024-02-02  Outlets_7  Products_5         65      137.191145   8917.424411\n",
       "4 2024-05-12  Outlets_5  Products_1        114      304.343828  34695.196345"
      ]
     },
     "execution_count": 37,
     "metadata": {},
     "output_type": "execute_result"
    }
   ],
   "source": [
    "df.head()"
   ]
  },
  {
   "cell_type": "code",
   "execution_count": 16,
   "metadata": {},
   "outputs": [],
   "source": [
    "api_key = 'your_api_key'"
   ]
  },
  {
   "cell_type": "code",
   "execution_count": null,
   "metadata": {},
   "outputs": [],
   "source": [
    "from pandasai import PandasAI\n",
    "from pandasai.llm.openai import OpenAi"
   ]
  },
  {
   "cell_type": "code",
   "execution_count": null,
   "metadata": {},
   "outputs": [],
   "source": [
    "llm = OpenAI(api_token = api_key)\n",
    "pandas_ai = PandasAI(llm)"
   ]
  },
  {
   "cell_type": "code",
   "execution_count": 39,
   "metadata": {},
   "outputs": [
    {
     "data": {
      "text/plain": [
       "'Products_1'"
      ]
     },
     "execution_count": 39,
     "metadata": {},
     "output_type": "execute_result"
    }
   ],
   "source": [
    "pandas_ai.run(df, \"Which product has the highest total_sales?\")"
   ]
  }
 ],
 "metadata": {
  "kernelspec": {
   "display_name": "Python 3",
   "language": "python",
   "name": "python3"
  },
  "language_info": {
   "codemirror_mode": {
    "name": "ipython",
    "version": 3
   },
   "file_extension": ".py",
   "mimetype": "text/x-python",
   "name": "python",
   "nbconvert_exporter": "python",
   "pygments_lexer": "ipython3",
   "version": "3.11.4"
  }
 },
 "nbformat": 4,
 "nbformat_minor": 2
}
